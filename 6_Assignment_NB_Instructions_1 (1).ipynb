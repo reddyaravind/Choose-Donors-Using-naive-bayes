{
 "cells": [
  {
   "cell_type": "markdown",
   "metadata": {
    "colab_type": "text",
    "id": "Dnubs-Nnb3cw"
   },
   "source": [
    "# Assignment 6: Apply NB"
   ]
  },
  {
   "cell_type": "markdown",
   "metadata": {
    "colab_type": "text",
    "id": "12krXa2pb3c1"
   },
   "source": [
    "<ol>\n",
    "    <li><strong>Apply Multinomial NB on these feature sets</strong>\n",
    "        <ul>\n",
    "            <li><font color='red'>Set 1</font>: categorical, numerical features + preprocessed_eassay (BOW)</li>\n",
    "            <li><font color='red'>Set 2</font>: categorical, numerical features + preprocessed_eassay (TFIDF)</li>\n",
    "        </ul>\n",
    "    </li>\n",
    "    <li><strong>The hyper paramter tuning(find best alpha:smoothing parameter)</strong>\n",
    "        <ul>\n",
    "    <li>Find the best hyper parameter which will give the maximum <a href='https://www.appliedaicourse.com/course/applied-ai-course-online/lessons/receiver-operating-characteristic-curve-roc-curve-and-auc-1/'>AUC</a> value</li>\n",
    "    <li>find the best hyper paramter using k-fold cross validation(use GridsearchCV or RandomsearchCV)/simple cross validation data (write for loop to iterate over hyper parameter values)</li>\n",
    "    <li></li>\n",
    "        </ul>\n",
    "    </li>\n",
    "    <li>\n",
    "    <strong>Representation of results</strong>\n",
    "        <ul>\n",
    "    <li>You need to plot the performance of model both on train data and cross validation data for each hyper parameter, like shown in the figure\n",
    "    <img src='https://i.imgur.com/hUv6aEy.jpg' width=300px></li>\n",
    "    <li>Once after you found the best hyper parameter, you need to train your model with it, and find the AUC on test data and plot the ROC curve on both train and test.\n",
    "    <img src='https://i.imgur.com/wMQDTFe.jpg' width=300px></li>\n",
    "    <li>Along with plotting ROC curve, you need to print the <a href='https://www.appliedaicourse.com/course/applied-ai-course-online/lessons/confusion-matrix-tpr-fpr-fnr-tnr-1/'>confusion matrix</a> with predicted and original labels of test data points\n",
    "    <img src='https://i.imgur.com/IdN5Ctv.png' width=300px></li>\n",
    "        </ul>\n",
    "    </li>\n",
    "    <li>\n",
    "fine the top 20 features from either from feature <font color='red'>Set 1</font> or feature <font color='red'>Set 2</font> using absolute values of `feature_log_prob_ ` parameter of `MultinomialNB` \n",
    "(https://scikit-learn.org/stable/modules/generated/sklearn.naive_bayes.MultinomialNB.html) and print their corresponding feature names\n",
    "    </li>\n",
    "    <li>You need to summarize the results at the end of the notebook, summarize it in the table format\n",
    "        <img src='http://i.imgur.com/YVpIGGE.jpg' width=400px>\n",
    "    </li>\n",
    "</ol>"
   ]
  },
  {
   "cell_type": "markdown",
   "metadata": {
    "colab_type": "text",
    "id": "inzYCIaib3c3"
   },
   "source": [
    "<h1>2. Naive Bayes </h1>"
   ]
  },
  {
   "cell_type": "markdown",
   "metadata": {
    "colab_type": "text",
    "id": "FYqCIxzFb3c5"
   },
   "source": [
    "## 1.1 Loading Data"
   ]
  },
  {
   "cell_type": "code",
   "execution_count": 1,
   "metadata": {},
   "outputs": [],
   "source": [
    "%matplotlib inline\n",
    "import warnings\n",
    "warnings.filterwarnings(\"ignore\")\n",
    "\n",
    "import pandas as pd\n",
    "import numpy as np\n",
    "import nltk\n",
    "import matplotlib.pyplot as plt\n",
    "import seaborn as sns\n",
    "from sklearn.feature_extraction.text import TfidfVectorizer\n",
    "from sklearn.feature_extraction.text import CountVectorizer\n",
    "from sklearn.metrics import confusion_matrix\n",
    "from sklearn import metrics\n",
    "from sklearn.metrics import roc_curve, auc\n",
    "\n",
    "import re\n",
    "# Tutorial about Python regular expressions: https://pymotw.com/2/re/\n",
    "\n",
    "import pickle\n",
    "from tqdm import tqdm\n",
    "import os\n",
    "\n",
    "\n",
    "from collections import Counter"
   ]
  },
  {
   "cell_type": "code",
   "execution_count": 2,
   "metadata": {
    "colab": {},
    "colab_type": "code",
    "id": "dA1jknyqb3c_"
   },
   "outputs": [],
   "source": [
    "import pandas\n",
    "data = pandas.read_csv('preprocessed_data.csv')"
   ]
  },
  {
   "cell_type": "code",
   "execution_count": 3,
   "metadata": {},
   "outputs": [
    {
     "data": {
      "text/plain": [
       "(109248, 9)"
      ]
     },
     "execution_count": 3,
     "metadata": {},
     "output_type": "execute_result"
    }
   ],
   "source": [
    "data.columns\n",
    "data.shape"
   ]
  },
  {
   "cell_type": "code",
   "execution_count": 4,
   "metadata": {},
   "outputs": [
    {
     "data": {
      "text/html": [
       "<div>\n",
       "<style scoped>\n",
       "    .dataframe tbody tr th:only-of-type {\n",
       "        vertical-align: middle;\n",
       "    }\n",
       "\n",
       "    .dataframe tbody tr th {\n",
       "        vertical-align: top;\n",
       "    }\n",
       "\n",
       "    .dataframe thead th {\n",
       "        text-align: right;\n",
       "    }\n",
       "</style>\n",
       "<table border=\"1\" class=\"dataframe\">\n",
       "  <thead>\n",
       "    <tr style=\"text-align: right;\">\n",
       "      <th></th>\n",
       "      <th>school_state</th>\n",
       "      <th>teacher_prefix</th>\n",
       "      <th>project_grade_category</th>\n",
       "      <th>teacher_number_of_previously_posted_projects</th>\n",
       "      <th>project_is_approved</th>\n",
       "      <th>clean_categories</th>\n",
       "      <th>clean_subcategories</th>\n",
       "      <th>essay</th>\n",
       "      <th>price</th>\n",
       "    </tr>\n",
       "  </thead>\n",
       "  <tbody>\n",
       "    <tr>\n",
       "      <th>0</th>\n",
       "      <td>ca</td>\n",
       "      <td>mrs</td>\n",
       "      <td>grades_prek_2</td>\n",
       "      <td>53</td>\n",
       "      <td>1</td>\n",
       "      <td>math_science</td>\n",
       "      <td>appliedsciences health_lifescience</td>\n",
       "      <td>i fortunate enough use fairy tale stem kits cl...</td>\n",
       "      <td>725.05</td>\n",
       "    </tr>\n",
       "    <tr>\n",
       "      <th>1</th>\n",
       "      <td>ut</td>\n",
       "      <td>ms</td>\n",
       "      <td>grades_3_5</td>\n",
       "      <td>4</td>\n",
       "      <td>1</td>\n",
       "      <td>specialneeds</td>\n",
       "      <td>specialneeds</td>\n",
       "      <td>imagine 8 9 years old you third grade classroo...</td>\n",
       "      <td>213.03</td>\n",
       "    </tr>\n",
       "    <tr>\n",
       "      <th>2</th>\n",
       "      <td>ca</td>\n",
       "      <td>mrs</td>\n",
       "      <td>grades_prek_2</td>\n",
       "      <td>10</td>\n",
       "      <td>1</td>\n",
       "      <td>literacy_language</td>\n",
       "      <td>literacy</td>\n",
       "      <td>having class 24 students comes diverse learner...</td>\n",
       "      <td>329.00</td>\n",
       "    </tr>\n",
       "    <tr>\n",
       "      <th>3</th>\n",
       "      <td>ga</td>\n",
       "      <td>mrs</td>\n",
       "      <td>grades_prek_2</td>\n",
       "      <td>2</td>\n",
       "      <td>1</td>\n",
       "      <td>appliedlearning</td>\n",
       "      <td>earlydevelopment</td>\n",
       "      <td>i recently read article giving students choice...</td>\n",
       "      <td>481.04</td>\n",
       "    </tr>\n",
       "    <tr>\n",
       "      <th>4</th>\n",
       "      <td>wa</td>\n",
       "      <td>mrs</td>\n",
       "      <td>grades_3_5</td>\n",
       "      <td>2</td>\n",
       "      <td>1</td>\n",
       "      <td>literacy_language</td>\n",
       "      <td>literacy</td>\n",
       "      <td>my students crave challenge eat obstacles brea...</td>\n",
       "      <td>17.74</td>\n",
       "    </tr>\n",
       "  </tbody>\n",
       "</table>\n",
       "</div>"
      ],
      "text/plain": [
       "  school_state teacher_prefix project_grade_category  \\\n",
       "0           ca            mrs          grades_prek_2   \n",
       "1           ut             ms             grades_3_5   \n",
       "2           ca            mrs          grades_prek_2   \n",
       "3           ga            mrs          grades_prek_2   \n",
       "4           wa            mrs             grades_3_5   \n",
       "\n",
       "   teacher_number_of_previously_posted_projects  project_is_approved  \\\n",
       "0                                            53                    1   \n",
       "1                                             4                    1   \n",
       "2                                            10                    1   \n",
       "3                                             2                    1   \n",
       "4                                             2                    1   \n",
       "\n",
       "    clean_categories                 clean_subcategories  \\\n",
       "0       math_science  appliedsciences health_lifescience   \n",
       "1       specialneeds                        specialneeds   \n",
       "2  literacy_language                            literacy   \n",
       "3    appliedlearning                    earlydevelopment   \n",
       "4  literacy_language                            literacy   \n",
       "\n",
       "                                               essay   price  \n",
       "0  i fortunate enough use fairy tale stem kits cl...  725.05  \n",
       "1  imagine 8 9 years old you third grade classroo...  213.03  \n",
       "2  having class 24 students comes diverse learner...  329.00  \n",
       "3  i recently read article giving students choice...  481.04  \n",
       "4  my students crave challenge eat obstacles brea...   17.74  "
      ]
     },
     "execution_count": 4,
     "metadata": {},
     "output_type": "execute_result"
    }
   ],
   "source": [
    "data.head()"
   ]
  },
  {
   "cell_type": "markdown",
   "metadata": {
    "colab_type": "text",
    "id": "WtVV13Fyb3dH"
   },
   "source": [
    "<h2>1.2 Splitting data into Train and cross validation(or test): Stratified Sampling</h2>"
   ]
  },
  {
   "cell_type": "code",
   "execution_count": 5,
   "metadata": {
    "colab": {},
    "colab_type": "code",
    "id": "i-PyprDNb3dI"
   },
   "outputs": [],
   "source": [
    "# please write all the code with proper documentation, and proper titles for each subsection\n",
    "# go through documentations and blogs before you start coding\n",
    "# first figure out what to do, and then think about how to do.\n",
    "# reading and understanding error messages will be very much helpfull in debugging your code\n",
    "# when you plot any graph make sure you use \n",
    "    # a. Title, that describes your plot, this will be very helpful to the reader\n",
    "    # b. Legends if needed\n",
    "    # c. X-axis label\n",
    "    # d. Y-axis label\n",
    "    \n",
    "from sklearn.model_selection import train_test_split\n",
    "\n",
    "from sklearn.metrics import accuracy_score\n",
    "from sklearn.model_selection import cross_val_score\n",
    "from collections import Counter\n",
    "from sklearn.metrics import accuracy_score\n",
    "import numpy as np\n",
    "\n"
   ]
  },
  {
   "cell_type": "code",
   "execution_count": 6,
   "metadata": {},
   "outputs": [],
   "source": [
    "y = data['project_is_approved'].values\n",
    "X = data.drop(['project_is_approved'], axis=1)"
   ]
  },
  {
   "cell_type": "code",
   "execution_count": 7,
   "metadata": {},
   "outputs": [],
   "source": [
    "X_train, X_test, y_train, y_test = train_test_split(X, y, test_size=0.33, stratify=y)\n",
    "X_train, X_cv, y_train, y_cv = train_test_split(X_train, y_train, test_size=0.33, stratify=y_train)"
   ]
  },
  {
   "cell_type": "code",
   "execution_count": 8,
   "metadata": {},
   "outputs": [],
   "source": [
    "feature_names_bow=[]\n",
    "feature_names_tfidf=[]"
   ]
  },
  {
   "cell_type": "markdown",
   "metadata": {},
   "source": [
    "## bow of essay"
   ]
  },
  {
   "cell_type": "code",
   "execution_count": 9,
   "metadata": {},
   "outputs": [
    {
     "name": "stdout",
     "output_type": "stream",
     "text": [
      "Shape of matrix after one hot encodig  (49041, 12176)\n",
      "Shape of matrix after one hot encodig  (36052, 12176)\n"
     ]
    }
   ],
   "source": [
    "bow_essay_vectorizer = CountVectorizer(min_df=10)\n",
    "bow_essay_vectorizer.fit(X_train['essay'])\n",
    "\n",
    "# we use the fitted CountVectorizer to convert the text to vector\n",
    "X_train_essay_bow=bow_essay_vectorizer.transform(X_train['essay'].values)\n",
    "X_cv_essay_bow=bow_essay_vectorizer.transform(X_cv['essay'].values)\n",
    "X_test_essay_bow=bow_essay_vectorizer.transform(X_test['essay'].values)\n",
    "\n",
    "\n",
    "print(\"Shape of matrix after one hot encodig \",X_train_essay_bow.shape)\n",
    "print(\"Shape of matrix after one hot encodig \",X_test_essay_bow.shape)\n",
    "feature_names_bow.extend(bow_essay_vectorizer.get_feature_names())\n",
    "\n"
   ]
  },
  {
   "cell_type": "code",
   "execution_count": 10,
   "metadata": {},
   "outputs": [
    {
     "name": "stdout",
     "output_type": "stream",
     "text": [
      "Shape of matrix after one hot encodig  (24155, 12176)\n"
     ]
    }
   ],
   "source": [
    "print(\"Shape of matrix after one hot encodig \",X_cv_essay_bow.shape)"
   ]
  },
  {
   "cell_type": "code",
   "execution_count": null,
   "metadata": {},
   "outputs": [],
   "source": []
  },
  {
   "cell_type": "markdown",
   "metadata": {},
   "source": [
    "## tfidf of essay"
   ]
  },
  {
   "cell_type": "code",
   "execution_count": 11,
   "metadata": {},
   "outputs": [
    {
     "name": "stdout",
     "output_type": "stream",
     "text": [
      "Shape of matrix after one hot encodig  (49041, 12176)\n",
      "Shape of matrix after one hot encodig  (24155, 12176)\n",
      "Shape of matrix after one hot encodig  (36052, 12176)\n"
     ]
    }
   ],
   "source": [
    "tfidf_essay_vectorizer = TfidfVectorizer(min_df=10)\n",
    "tfidf_essay_vectorizer.fit(X_train['essay'])\n",
    "\n",
    "# we use the fitted CountVectorizer to convert the text to vector\n",
    "X_train_essay_tfidf=tfidf_essay_vectorizer.transform(X_train['essay'].values)\n",
    "X_cv_essay_tfidf=tfidf_essay_vectorizer.transform(X_cv['essay'].values)\n",
    "X_test_essay_tfidf=tfidf_essay_vectorizer.transform(X_test['essay'].values)\n",
    "\n",
    "\n",
    "print(\"Shape of matrix after one hot encodig \",X_train_essay_tfidf.shape)\n",
    "print(\"Shape of matrix after one hot encodig \",X_cv_essay_tfidf.shape)\n",
    "print(\"Shape of matrix after one hot encodig \",X_test_essay_tfidf.shape)\n",
    "\n",
    "feature_names_tfidf.extend(tfidf_essay_vectorizer.get_feature_names())"
   ]
  },
  {
   "cell_type": "markdown",
   "metadata": {},
   "source": [
    "## one hot encoding and normalizing of categorical and numerical data"
   ]
  },
  {
   "cell_type": "code",
   "execution_count": 13,
   "metadata": {},
   "outputs": [
    {
     "name": "stdout",
     "output_type": "stream",
     "text": [
      "['appliedlearning', 'care_hunger', 'health_sports', 'history_civics', 'literacy_language', 'math_science', 'music_arts', 'specialneeds', 'warmth']\n",
      "Shape of matrix after one hot encodig  (49041, 9)\n",
      "Shape of matrix after one hot encodig  (24155, 9)\n",
      "Shape of matrix after one hot encodig  (36052, 9)\n"
     ]
    }
   ],
   "source": [
    "from sklearn.feature_extraction.text import CountVectorizer\n",
    "vectorizer_clean_categories = CountVectorizer(lowercase=False, binary=True)\n",
    "vectorizer_clean_categories.fit(X_train['clean_categories'].values)\n",
    "feature_names_bow=[]\n",
    "feature_names_tfidf=[]\n",
    "# we use the fitted CountVectorizer to convert the text to vector\n",
    "X_train_clean_categories=vectorizer_clean_categories.transform(X_train['clean_categories'].values)\n",
    "X_cv_clean_categories=vectorizer_clean_categories.transform(X_cv['clean_categories'].values)\n",
    "X_test_clean_categories=vectorizer_clean_categories.transform(X_test['clean_categories'].values)\n",
    "\n",
    "\n",
    "print(vectorizer_clean_categories.get_feature_names())\n",
    "print(\"Shape of matrix after one hot encodig \",X_train_clean_categories.shape)\n",
    "print(\"Shape of matrix after one hot encodig \",X_cv_clean_categories.shape)\n",
    "print(\"Shape of matrix after one hot encodig \",X_test_clean_categories.shape)\n",
    "feature_names_bow.extend(vectorizer_clean_categories.get_feature_names())\n",
    "feature_names_tfidf.extend(vectorizer_clean_categories.get_feature_names())"
   ]
  },
  {
   "cell_type": "code",
   "execution_count": 15,
   "metadata": {},
   "outputs": [
    {
     "name": "stdout",
     "output_type": "stream",
     "text": [
      "['appliedsciences', 'care_hunger', 'charactereducation', 'civics_government', 'college_careerprep', 'communityservice', 'earlydevelopment', 'economics', 'environmentalscience', 'esl', 'extracurricular', 'financialliteracy', 'foreignlanguages', 'gym_fitness', 'health_lifescience', 'health_wellness', 'history_geography', 'literacy', 'literature_writing', 'mathematics', 'music', 'nutritioneducation', 'other', 'parentinvolvement', 'performingarts', 'socialsciences', 'specialneeds', 'teamsports', 'visualarts', 'warmth']\n",
      "Shape of matrix after one hot encodig  (49041, 30)\n",
      "Shape of matrix after one hot encodig  (24155, 30)\n",
      "Shape of matrix after one hot encodig  (36052, 30)\n"
     ]
    }
   ],
   "source": [
    "\n",
    "vectorizer_clean_subcategories = CountVectorizer(lowercase=False, binary=True)\n",
    "vectorizer_clean_subcategories.fit(X_train['clean_subcategories'].values)\n",
    "\n",
    "# we use the fitted CountVectorizer to convert the text to vector\n",
    "X_train_clean_sub_categories=vectorizer_clean_subcategories.transform(X_train['clean_subcategories'].values)\n",
    "X_cv_clean_sub_categories=vectorizer_clean_subcategories.transform(X_cv['clean_subcategories'].values)\n",
    "X_test_clean_sub_categories=vectorizer_clean_subcategories.transform(X_test['clean_subcategories'].values)\n",
    "\n",
    "\n",
    "print(vectorizer_clean_subcategories.get_feature_names())\n",
    "print(\"Shape of matrix after one hot encodig \",X_train_clean_sub_categories.shape)\n",
    "print(\"Shape of matrix after one hot encodig \",X_cv_clean_sub_categories.shape)\n",
    "print(\"Shape of matrix after one hot encodig \",X_test_clean_sub_categories.shape)\n",
    "feature_names_bow.extend(vectorizer_clean_subcategories.get_feature_names())\n",
    "feature_names_tfidf.extend(vectorizer_clean_subcategories.get_feature_names())"
   ]
  },
  {
   "cell_type": "code",
   "execution_count": 16,
   "metadata": {},
   "outputs": [
    {
     "name": "stdout",
     "output_type": "stream",
     "text": [
      "['ak', 'al', 'ar', 'az', 'ca', 'co', 'ct', 'dc', 'de', 'fl', 'ga', 'hi', 'ia', 'id', 'il', 'in', 'ks', 'ky', 'la', 'ma', 'md', 'me', 'mi', 'mn', 'mo', 'ms', 'mt', 'nc', 'nd', 'ne', 'nh', 'nj', 'nm', 'nv', 'ny', 'oh', 'ok', 'or', 'pa', 'ri', 'sc', 'sd', 'tn', 'tx', 'ut', 'va', 'vt', 'wa', 'wi', 'wv', 'wy']\n",
      "Shape of matrix after one hot encodig  (49041, 51)\n",
      "Shape of matrix after one hot encodig  (24155, 51)\n",
      "Shape of matrix after one hot encodig  (36052, 51)\n"
     ]
    }
   ],
   "source": [
    "\n",
    "vectorizer_school_state = CountVectorizer(lowercase=False, binary=True)\n",
    "vectorizer_school_state.fit(X_train['school_state'].values)\n",
    "\n",
    "# we use the fitted CountVectorizer to convert the text to vector\n",
    "X_train_skl_state=vectorizer_school_state.transform(X_train['school_state'].values)\n",
    "X_cv_skl_state=vectorizer_school_state.transform(X_cv['school_state'].values)\n",
    "X_test_skl_state=vectorizer_school_state.transform(X_test['school_state'].values)\n",
    "\n",
    "\n",
    "print(vectorizer_school_state.get_feature_names())\n",
    "print(\"Shape of matrix after one hot encodig \",X_train_skl_state.shape)\n",
    "print(\"Shape of matrix after one hot encodig \",X_cv_skl_state.shape)\n",
    "print(\"Shape of matrix after one hot encodig \",X_test_skl_state.shape)\n",
    "feature_names_bow.extend(vectorizer_school_state.get_feature_names())\n",
    "feature_names_tfidf.extend(vectorizer_school_state.get_feature_names())"
   ]
  },
  {
   "cell_type": "code",
   "execution_count": 17,
   "metadata": {},
   "outputs": [
    {
     "name": "stdout",
     "output_type": "stream",
     "text": [
      "['dr', 'mr', 'mrs', 'ms', 'teacher']\n",
      "Shape of matrix after one hot encodig  (49041, 5)\n",
      "Shape of matrix after one hot encodig  (24155, 5)\n",
      "Shape of matrix after one hot encodig  (36052, 5)\n"
     ]
    }
   ],
   "source": [
    "\n",
    "vectorizer_teacher_prefix = CountVectorizer(lowercase=False, binary=True)\n",
    "vectorizer_teacher_prefix.fit(X_train['teacher_prefix'].values.astype(\"U\"))\n",
    "\n",
    "# we use the fitted CountVectorizer to convert the text to vector\n",
    "X_train_teacher_prefix=vectorizer_teacher_prefix.transform(X_train['teacher_prefix'].values.astype(\"U\"))\n",
    "X_cv_teacher_prefix=vectorizer_teacher_prefix.transform(X_cv['teacher_prefix'].values.astype(\"U\"))\n",
    "X_test_teacher_prefix=vectorizer_teacher_prefix.transform(X_test['teacher_prefix'].values.astype(\"U\"))\n",
    "\n",
    "\n",
    "print(vectorizer_teacher_prefix.get_feature_names())\n",
    "print(\"Shape of matrix after one hot encodig \",X_train_teacher_prefix.shape)\n",
    "print(\"Shape of matrix after one hot encodig \",X_cv_teacher_prefix.shape)\n",
    "print(\"Shape of matrix after one hot encodig \",X_test_teacher_prefix.shape)\n",
    "feature_names_bow.extend(vectorizer_teacher_prefix.get_feature_names())\n",
    "feature_names_tfidf.extend(vectorizer_teacher_prefix.get_feature_names())"
   ]
  },
  {
   "cell_type": "code",
   "execution_count": 18,
   "metadata": {},
   "outputs": [
    {
     "name": "stdout",
     "output_type": "stream",
     "text": [
      "['grades_3_5', 'grades_6_8', 'grades_9_12', 'grades_prek_2']\n",
      "Shape of matrix after one hot encodig  (49041, 4)\n",
      "Shape of matrix after one hot encodig  (24155, 4)\n",
      "Shape of matrix after one hot encodig  (36052, 4)\n"
     ]
    }
   ],
   "source": [
    "vectorizer_project_grade_category = CountVectorizer(lowercase=False, binary=True)\n",
    "vectorizer_project_grade_category.fit(X_train['project_grade_category'].values)\n",
    "\n",
    "# we use the fitted CountVectorizer to convert the text to vector\n",
    "X_train_grade_level=vectorizer_project_grade_category.transform(X_train['project_grade_category'].values)\n",
    "X_cv_grade_level=vectorizer_project_grade_category.transform(X_cv['project_grade_category'].values)\n",
    "X_test_grade_level=vectorizer_project_grade_category.transform(X_test['project_grade_category'].values)\n",
    "\n",
    "\n",
    "print(vectorizer_project_grade_category.get_feature_names())\n",
    "print(\"Shape of matrix after one hot encodig \",X_train_grade_level.shape)\n",
    "print(\"Shape of matrix after one hot encodig \",X_cv_grade_level.shape)\n",
    "print(\"Shape of matrix after one hot encodig \",X_test_grade_level.shape)\n",
    "feature_names_bow.extend(vectorizer_project_grade_category.get_feature_names())\n",
    "feature_names_tfidf.extend(vectorizer_project_grade_category.get_feature_names())"
   ]
  },
  {
   "cell_type": "code",
   "execution_count": 19,
   "metadata": {},
   "outputs": [
    {
     "name": "stdout",
     "output_type": "stream",
     "text": [
      "After vectorizations\n",
      "(1, 49041) (49041,)\n",
      "(1, 24155) (24155,)\n",
      "(1, 36052) (36052,)\n"
     ]
    }
   ],
   "source": [
    "from sklearn.preprocessing import Normalizer\n",
    "\n",
    "normalizer = Normalizer()\n",
    "\n",
    "# normalizer.fit(X_train['price'].values)\n",
    "# this will rise an error Expected 2D array, got 1D array instead: \n",
    "# array=[105.22 215.96  96.01 ... 368.98  80.53 709.67].\n",
    "# Reshape your data either using \n",
    "# array.reshape(-1, 1) if your data has a single feature \n",
    "# array.reshape(1, -1)  if it contains a single sample.\n",
    "\n",
    "normalizer.fit(X_train['price'].values.reshape(1,-1))\n",
    "\n",
    "X_train_price_standardized = normalizer.transform(X_train['price'].values.reshape(1,-1))\n",
    "X_cv_price_standardized = normalizer.transform(X_cv['price'].values.reshape(1,-1))\n",
    "X_test_price_standardized = normalizer.transform(X_test['price'].values.reshape(1,-1))\n",
    "\n",
    "print(\"After vectorizations\")\n",
    "print(X_train_price_standardized.shape, y_train.shape)\n",
    "print(X_cv_price_standardized.shape, y_cv.shape)\n",
    "print(X_test_price_standardized.shape, y_test.shape)"
   ]
  },
  {
   "cell_type": "code",
   "execution_count": 20,
   "metadata": {},
   "outputs": [],
   "source": [
    "X_train_price_standardized = X_train_price_standardized.reshape(-1,1)\n",
    "X_cv_price_standardized = X_cv['price'].values.reshape(-1,1)\n",
    "X_test_price_standardized = X_test_price_standardized.reshape(-1,1)"
   ]
  },
  {
   "cell_type": "code",
   "execution_count": 21,
   "metadata": {},
   "outputs": [
    {
     "name": "stdout",
     "output_type": "stream",
     "text": [
      "After vectorizations\n",
      "(1, 49041) (49041,)\n",
      "(1, 24155) (24155,)\n",
      "(1, 36052) (36052,)\n"
     ]
    }
   ],
   "source": [
    "\n",
    "normalizer = Normalizer()\n",
    "\n",
    "# normalizer.fit(X_train['price'].values)\n",
    "# this will rise an error Expected 2D array, got 1D array instead: \n",
    "# array=[105.22 215.96  96.01 ... 368.98  80.53 709.67].\n",
    "# Reshape your data either using \n",
    "# array.reshape(-1, 1) if your data has a single feature \n",
    "# array.reshape(1, -1)  if it contains a single sample.\n",
    "\n",
    "normalizer.fit(X_train['teacher_number_of_previously_posted_projects'].values.reshape(1,-1))\n",
    "\n",
    "X_train_prev_proj = normalizer.transform(X_train['teacher_number_of_previously_posted_projects'].values.reshape(1,-1))\n",
    "X_cv_prev_proj = normalizer.transform(X_cv['teacher_number_of_previously_posted_projects'].values.reshape(1,-1))\n",
    "X_test_proj = normalizer.transform(X_test['teacher_number_of_previously_posted_projects'].values.reshape(1,-1))\n",
    "\n",
    "print(\"After vectorizations\")\n",
    "print(X_train_prev_proj.shape, y_train.shape)\n",
    "print(X_cv_prev_proj.shape, y_cv.shape)\n",
    "print(X_test_proj.shape, y_test.shape)"
   ]
  },
  {
   "cell_type": "code",
   "execution_count": 22,
   "metadata": {},
   "outputs": [],
   "source": [
    "\n",
    "X_train_prev_proj = X_train_prev_proj.reshape(-1,1)\n",
    "X_cv_prev_proj = X_cv['teacher_number_of_previously_posted_projects'].values.reshape(-1,1)\n",
    "X_test_proj = X_test_proj.reshape(-1,1)"
   ]
  },
  {
   "cell_type": "markdown",
   "metadata": {},
   "source": [
    "## merge bow"
   ]
  },
  {
   "cell_type": "code",
   "execution_count": 23,
   "metadata": {},
   "outputs": [
    {
     "name": "stdout",
     "output_type": "stream",
     "text": [
      "(49041, 12277)\n",
      "(24155, 12277)\n",
      "(36052, 12277)\n"
     ]
    }
   ],
   "source": [
    "from scipy.sparse import hstack\n",
    "\n",
    "# with the same hstack function we are concatinating a sparse matrix and a dense matirx :)\n",
    "X_train_bow = hstack((X_train_clean_categories, X_train_clean_sub_categories,X_train_skl_state,X_train_teacher_prefix,\n",
    "            X_train_grade_level,X_train_prev_proj,X_train_price_standardized,\n",
    "            X_train_essay_bow\n",
    "            )).tocsr()\n",
    "\n",
    "X_cv_bow = hstack((X_cv_clean_categories, X_cv_clean_sub_categories,X_cv_skl_state,X_cv_teacher_prefix,\n",
    "            X_cv_grade_level,X_cv_prev_proj,X_cv_price_standardized,\n",
    "            X_cv_essay_bow\n",
    "            )).tocsr()\n",
    "\n",
    "X_test_bow = hstack((X_test_clean_categories, X_test_clean_sub_categories,X_test_skl_state,X_test_teacher_prefix,\n",
    "            X_test_grade_level,X_test_proj,X_test_price_standardized,\n",
    "            X_test_essay_bow\n",
    "            )).tocsr()\n",
    "\n",
    "\n",
    "\n",
    "\n",
    "\n",
    "print(X_train_bow.shape)\n",
    "print(X_cv_bow.shape)\n",
    "print(X_test_bow.shape)"
   ]
  },
  {
   "cell_type": "markdown",
   "metadata": {},
   "source": [
    "## merge tfidf"
   ]
  },
  {
   "cell_type": "code",
   "execution_count": 24,
   "metadata": {},
   "outputs": [
    {
     "name": "stdout",
     "output_type": "stream",
     "text": [
      "(49041, 12277)\n",
      "(24155, 12277)\n",
      "(36052, 12277)\n"
     ]
    }
   ],
   "source": [
    "# with the same hstack function we are concatinating a sparse matrix and a dense matirx :)\n",
    "X_train_tfidf = hstack((X_train_clean_categories, X_train_clean_sub_categories,X_train_skl_state,X_train_teacher_prefix,\n",
    "            X_train_grade_level,X_train_prev_proj,X_train_price_standardized,\n",
    "            X_train_essay_tfidf\n",
    "            )).tocsr()\n",
    "\n",
    "X_cv_tfidf = hstack((X_cv_clean_categories, X_cv_clean_sub_categories,X_cv_skl_state,X_cv_teacher_prefix,\n",
    "            X_cv_grade_level,X_cv_prev_proj,X_cv_price_standardized,\n",
    "            X_cv_essay_tfidf\n",
    "            )).tocsr()\n",
    "\n",
    "X_test_tfidf = hstack((X_test_clean_categories, X_test_clean_sub_categories,X_test_skl_state,X_test_teacher_prefix,\n",
    "            X_test_grade_level,X_test_proj,X_test_price_standardized,\n",
    "            X_test_essay_tfidf\n",
    "            )).tocsr()\n",
    "\n",
    "\n",
    "\n",
    "\n",
    "\n",
    "print(X_train_bow.shape)\n",
    "print(X_cv_bow.shape)\n",
    "print(X_test_bow.shape)"
   ]
  },
  {
   "cell_type": "markdown",
   "metadata": {},
   "source": [
    "## apply naive bayes on bow"
   ]
  },
  {
   "cell_type": "code",
   "execution_count": 25,
   "metadata": {},
   "outputs": [
    {
     "data": {
      "image/png": "[encoded data removed]",
      "text/plain": [
       "<matplotlib.figure.Figure at 0x26b3acf02b0>"
      ]
     },
     "metadata": {},
     "output_type": "display_data"
    }
   ],
   "source": [
    "from sklearn.model_selection import GridSearchCV\n",
    "from sklearn.naive_bayes import MultinomialNB\n",
    "nb = MultinomialNB(class_prior=[0.5,0.5])\n",
    "\n",
    "parameters = {'alpha':[0.00001, 0.00005, 0.0001, 0.0005, 0.001, 0.005, 0.01, 0.05, 0.1, 0.5, 1, 5, 10, 50, 100, 500, 1000, 2500, 5000, 10000]}\n",
    "\n",
    "clf = GridSearchCV(nb, parameters, cv= 10, scoring='roc_auc',return_train_score=True)\n",
    "\n",
    "clf.fit(X_train_bow, y_train)\n",
    "\n",
    "train_auc= clf.cv_results_['mean_train_score']\n",
    "train_auc_std = clf.cv_results_['std_train_score']\n",
    "test_auc = clf.cv_results_['mean_test_score'] \n",
    "test_auc_std = clf.cv_results_['std_test_score']\n",
    "plt.plot(train_auc,test_auc)\n",
    "plt.show()"
   ]
  },
  {
   "cell_type": "markdown",
   "metadata": {},
   "source": [
    "## Gridsearch hyperparameter tuning"
   ]
  },
  {
   "cell_type": "code",
   "execution_count": 26,
   "metadata": {},
   "outputs": [
    {
     "name": "stdout",
     "output_type": "stream",
     "text": [
      "Best score:  0.699126174818557\n",
      "parameter value with best score:  {'alpha': 0.5}\n",
      "Train AUC scores\n",
      "[0.82551071 0.82453779 0.82398095 0.82225726 0.82128641 0.81832476\n",
      " 0.81665678 0.81141549 0.80825202 0.796086   0.78630743 0.7374272\n",
      " 0.70313568 0.59775327 0.51100459 0.50005532 0.5        0.5\n",
      " 0.50005532 0.50004501]\n",
      "CV AUC scores\n",
      "[0.67398328 0.67746919 0.67914759 0.68334092 0.68528564 0.68983848\n",
      " 0.69180399 0.69606457 0.69759251 0.69912617 0.6973239  0.67461645\n",
      " 0.65460986 0.58079892 0.50867716 0.50005535 0.5        0.5\n",
      " 0.50005535 0.50004369]\n"
     ]
    }
   ],
   "source": [
    "#Output of GridSearchCV\n",
    "print('Best score: ',clf.best_score_)\n",
    "print('parameter value with best score: ',clf.best_params_)\n",
    "print('Train AUC scores')\n",
    "print(clf.cv_results_['mean_train_score'])\n",
    "print('CV AUC scores')\n",
    "print(clf.cv_results_['mean_test_score'])"
   ]
  },
  {
   "cell_type": "code",
   "execution_count": 27,
   "metadata": {},
   "outputs": [
    {
     "name": "stderr",
     "output_type": "stream",
     "text": [
      "100%|██████████| 20/20 [00:00<00:00, 20155.23it/s]\n"
     ]
    },
    {
     "data": {
      "image/png": "[encoded data removed]",
      "text/plain": [
       "<matplotlib.figure.Figure at 0x26b3b4ce668>"
      ]
     },
     "metadata": {},
     "output_type": "display_data"
    }
   ],
   "source": [
    "import math\n",
    "\n",
    "params = [0.00001, 0.00005, 0.0001, 0.0005, 0.001, 0.005, 0.01, 0.05, 0.1, 0.5, 1, 5, 10, 50, 100, 500, 1000, 2500, 5000, 10000]\n",
    "\n",
    "log_alphas =[]\n",
    "for a in tqdm(params):\n",
    "    b = math.log(a)\n",
    "    log_alphas.append(b)\n",
    "    \n",
    "plt.figure(figsize=(20,10))\n",
    "\n",
    "plt.plot(log_alphas, train_auc, label='Train AUC')\n",
    "\n",
    "\n",
    "\n",
    "plt.plot(log_alphas, test_auc, label='CV AUC')\n",
    "\n",
    "\n",
    "\n",
    "plt.scatter(log_alphas,train_auc, label='Train AUC points')\n",
    "plt.scatter(log_alphas, test_auc, label='CV AUC points')\n",
    "\n",
    "\n",
    "plt.legend()\n",
    "plt.xlabel(\"alpha: hyperparameter\")\n",
    "plt.ylabel(\"AUC\")\n",
    "plt.title(\"alpha: hyperparameter v/s AUC\")\n",
    "\n",
    "plt.show()"
   ]
  },
  {
   "cell_type": "code",
   "execution_count": 28,
   "metadata": {},
   "outputs": [
    {
     "data": {
      "image/png": "[encoded data removed]",
      "text/plain": [
       "<matplotlib.figure.Figure at 0x26b3b5f80b8>"
      ]
     },
     "metadata": {},
     "output_type": "display_data"
    }
   ],
   "source": [
    "\n",
    "def pred_prob(clf, data): \n",
    "    y_pred = []\n",
    "    y_pred = clf.predict_proba(data)[:,1]\n",
    "    return y_pred\n",
    "from sklearn.metrics import roc_curve, auc\n",
    "\n",
    "nb_bow = MultinomialNB(alpha = clf.best_params_['alpha'],class_prior = [0.5,0.5])\n",
    "\n",
    "nb_bow.fit(X_train_bow, y_train)\n",
    "# roc_auc_score(y_true, y_score) the 2nd parameter should be probability estimates of the positive class\n",
    "# not the predicted outputs\n",
    "\n",
    "y_train_pred = pred_prob(nb_bow,X_train_bow)\n",
    "y_test_pred = pred_prob(nb_bow,X_test_bow)\n",
    "\n",
    "train_fpr, train_tpr, tr_thresholds = roc_curve(y_train, y_train_pred)\n",
    "test_fpr, test_tpr, te_thresholds = roc_curve(y_test, y_test_pred)\n",
    "\n",
    "plt.plot(train_fpr, train_tpr, label=\"Train AUC =\"+str(auc(train_fpr, train_tpr)))\n",
    "plt.plot(test_fpr, test_tpr, label=\"cv AUC =\"+str(auc(test_fpr, test_tpr)))\n",
    "plt.legend()\n",
    "plt.xlabel(\"False Positive Rate(FPR)\")\n",
    "plt.ylabel(\"True Positive Rate(TPR)\")\n",
    "plt.title(\"AUC\")\n",
    "plt.grid()\n",
    "plt.show()\n"
   ]
  },
  {
   "cell_type": "code",
   "execution_count": 29,
   "metadata": {},
   "outputs": [],
   "source": [
    "def prediction(proba, threshould, fpr, tpr):\n",
    "    \n",
    "    t = threshould[np.argmax(fpr*(1-tpr))]\n",
    "    \n",
    "    # (tpr*(1-fpr)) will be maximum if your fpr is very low and tpr is very high\n",
    "    \n",
    "    print(\"the maximum value of tpr*(1-fpr)\", max(tpr*(1-fpr)), \"for threshold\", np.round(t,3))\n",
    "    predictions = []\n",
    "    for i in proba:\n",
    "        if i>=t:\n",
    "            predictions.append(1)\n",
    "        else:\n",
    "            predictions.append(0)\n",
    "    return predictions"
   ]
  },
  {
   "cell_type": "code",
   "execution_count": 30,
   "metadata": {},
   "outputs": [
    {
     "name": "stdout",
     "output_type": "stream",
     "text": [
      "the maximum value of tpr*(1-fpr) 0.2499999818661462 for threshold 0.037\n"
     ]
    }
   ],
   "source": [
    "conf_matr_df_train_1 = pd.DataFrame(confusion_matrix(y_train, prediction(y_train_pred, tr_thresholds, train_fpr, train_fpr)), range(2),range(2))"
   ]
  },
  {
   "cell_type": "code",
   "execution_count": 31,
   "metadata": {},
   "outputs": [
    {
     "data": {
      "text/plain": [
       "<matplotlib.axes._subplots.AxesSubplot at 0x26b3b8e5358>"
      ]
     },
     "execution_count": 31,
     "metadata": {},
     "output_type": "execute_result"
    },
    {
     "data": {
      "image/png": "[encoded data removed]",
      "text/plain": [
       "<matplotlib.figure.Figure at 0x26b3b4ef0f0>"
      ]
     },
     "metadata": {},
     "output_type": "display_data"
    }
   ],
   "source": [
    "sns.set(font_scale=1.4)#for label size\n",
    "sns.heatmap(conf_matr_df_train_1, annot=True,annot_kws={\"size\": 12}, fmt='g')"
   ]
  },
  {
   "cell_type": "markdown",
   "metadata": {},
   "source": [
    "## to get top 20 features"
   ]
  },
  {
   "cell_type": "code",
   "execution_count": 32,
   "metadata": {},
   "outputs": [],
   "source": [
    "bow_features_names = []\n",
    "\n",
    "for feature in vectorizer_clean_categories.get_feature_names() :\n",
    "    bow_features_names.append(feature)\n",
    "\n",
    "for feature in vectorizer_clean_subcategories.get_feature_names() :\n",
    "    bow_features_names.append(feature)\n",
    "\n",
    "for feature in vectorizer_school_state.get_feature_names() :\n",
    "    bow_features_names.append(feature)\n",
    "\n",
    "for feature in vectorizer_project_grade_category.get_feature_names() :\n",
    "    bow_features_names.append(feature)\n",
    "\n",
    "for feature in vectorizer_teacher_prefix.get_feature_names() :\n",
    "    bow_features_names.append(feature)\n",
    "for feature in bow_essay_vectorizer.get_feature_names() :\n",
    "    bow_features_names.append(feature)\n",
    "\n",
    "bow_features_names.append(\"price\")"
   ]
  },
  {
   "cell_type": "code",
   "execution_count": 37,
   "metadata": {},
   "outputs": [
    {
     "name": "stdout",
     "output_type": "stream",
     "text": [
      "Top 20 features from negative class:\n",
      "['skip' 'abound' 'reads' 'loved' 'comes' 'workbook' 'neediest' 'weaker'\n",
      " 'mapping' 'napkins' 'theaters' 'helper' 'thief' 'learner' 'notate'\n",
      " 'classwork' 'myers' 'learniture' 'schoolers' 'studies']\n",
      "Top 20 features from positive class:\n",
      "['days' 'abound' 'loved' 'used' 'reads' 'workbook' 'neediest' 'weaker'\n",
      " 'napkins' 'mapping' 'helper' 'learner' 'notate' 'thief' 'theaters'\n",
      " 'classwork' 'learniture' 'myers' 'schoolers' 'studies']\n"
     ]
    }
   ],
   "source": [
    "neg_class_prob_sorted = nb_bow.feature_log_prob_[0, :].argsort()   #class 0\n",
    "pos_class_prob_sorted = nb_bow.feature_log_prob_[1, :].argsort() #class1\n",
    "\n",
    "print('Top 20 features from negative class:')\n",
    "print(np.take(bow_features_names, neg_class_prob_sorted[len(neg_class_prob_sorted)-20:]))\n",
    "\n",
    "print('Top 20 features from positive class:')\n",
    "print(np.take(bow_features_names, pos_class_prob_sorted[len(pos_class_prob_sorted )-20:]))"
   ]
  },
  {
   "cell_type": "code",
   "execution_count": 34,
   "metadata": {},
   "outputs": [
    {
     "name": "stdout",
     "output_type": "stream",
     "text": [
      "| Vectorizer   | Model   |   Hyperparameter |     AUC |\n",
      "|--------------+---------+------------------+---------|\n",
      "| BOW          | Brute   |              0.5 | 0.70159 |\n"
     ]
    }
   ],
   "source": [
    "# https://stackoverflow.com/questions/9535954/printing-lists-as-tabular-data\n",
    "\n",
    "from tabulate import tabulate\n",
    "print(tabulate([['BOW','Brute','0.5',0.70159]], headers=['Vectorizer', 'Model','Hyperparameter','AUC'], tablefmt='orgtbl'))"
   ]
  },
  {
   "cell_type": "code",
   "execution_count": null,
   "metadata": {},
   "outputs": [],
   "source": []
  },
  {
   "cell_type": "code",
   "execution_count": null,
   "metadata": {},
   "outputs": [],
   "source": []
  },
  {
   "cell_type": "code",
   "execution_count": null,
   "metadata": {},
   "outputs": [],
   "source": []
  },
  {
   "cell_type": "code",
   "execution_count": null,
   "metadata": {
    "colab_type": "text",
    "id": "EnZwVNULb3dO"
   },
   "outputs": [],
   "source": []
  },
  {
   "cell_type": "code",
   "execution_count": null,
   "metadata": {
    "colab_type": "text",
    "id": "yYHPYadYb3dh"
   },
   "outputs": [],
   "source": []
  },
  {
   "cell_type": "code",
   "execution_count": null,
   "metadata": {
    "colab": {},
    "colab_type": "code",
    "id": "DNwqilFxb3di"
   },
   "outputs": [],
   "source": []
  },
  {
   "cell_type": "code",
   "execution_count": null,
   "metadata": {
    "colab_type": "text",
    "id": "lS9hIHdib3dp"
   },
   "outputs": [],
   "source": []
  },
  {
   "cell_type": "code",
   "execution_count": null,
   "metadata": {},
   "outputs": [],
   "source": []
  }
 ],
 "metadata": {
  "colab": {
   "collapsed_sections": [],
   "name": "6_Assignment_NB_Instructions.ipynb",
   "provenance": [],
   "version": "0.3.2"
  },
  "kernelspec": {
   "display_name": "Python 3",
   "language": "python",
   "name": "python3"
  },
  "language_info": {
   "codemirror_mode": {
    "name": "ipython",
    "version": 3
   },
   "file_extension": ".py",
   "mimetype": "text/x-python",
   "name": "python",
   "nbconvert_exporter": "python",
   "pygments_lexer": "ipython3",
   "version": "3.6.4"
  }
 },
 "nbformat": 4,
 "nbformat_minor": 1
}
